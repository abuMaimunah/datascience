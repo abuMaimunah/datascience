{
  "nbformat": 4,
  "nbformat_minor": 0,
  "metadata": {
    "colab": {
      "provenance": []
    },
    "kernelspec": {
      "name": "python3",
      "display_name": "Python 3"
    },
    "language_info": {
      "name": "python"
    }
  },
  "cells": [
    {
      "cell_type": "code",
      "execution_count": null,
      "metadata": {
        "colab": {
          "base_uri": "https://localhost:8080/"
        },
        "id": "LBnyipbgpO9e",
        "outputId": "b329098b-069d-4349-e207-75b4fabb5d70"
      },
      "outputs": [
        {
          "output_type": "stream",
          "name": "stdout",
          "text": [
            "Tic-tac-toe\n"
          ]
        }
      ],
      "source": [
        "#Tic-tac-toe\n",
        "print(\"Tic-tac-toe\")"
      ]
    },
    {
      "cell_type": "code",
      "source": [
        "import numpy as np\n",
        "import pandas as pd"
      ],
      "metadata": {
        "id": "rBDTg2w9phFI"
      },
      "execution_count": null,
      "outputs": []
    },
    {
      "cell_type": "code",
      "source": [
        "board_game = np.full((3,3),'')\n",
        "board_game"
      ],
      "metadata": {
        "colab": {
          "base_uri": "https://localhost:8080/"
        },
        "id": "-XJle78lyrjA",
        "outputId": "8378d07d-a36e-477a-d589-01859bda109d"
      },
      "execution_count": null,
      "outputs": [
        {
          "output_type": "execute_result",
          "data": {
            "text/plain": [
              "array([['', '', ''],\n",
              "       ['', '', ''],\n",
              "       ['', '', '']], dtype='<U1')"
            ]
          },
          "metadata": {},
          "execution_count": 17
        }
      ]
    },
    {
      "cell_type": "code",
      "source": [
        "def check_win(bord_game, player):\n",
        "  if np.any(np.all(board_game == player, axis=0)):\n",
        "    return True\n",
        "  if np.any(np.all(board_game == player, axis=1)):\n",
        "    return True\n",
        "  if np.all(np.diag(board_game==player)):\n",
        "    return True\n",
        "  if np.all(np.diag(np.fliplr(board_game))==player):\n",
        "    return True\n",
        "  return False"
      ],
      "metadata": {
        "id": "zkyH349Nzc3j"
      },
      "execution_count": null,
      "outputs": []
    },
    {
      "cell_type": "code",
      "source": [
        "def check_tie(board_game):\n",
        "  if np.all(board_game != '') and not check_win(board_game,'X') and not check_win(board_game, 'O') :\n",
        "    return True\n",
        "  return False"
      ],
      "metadata": {
        "id": "oIdNK8Ob4cnA"
      },
      "execution_count": null,
      "outputs": []
    },
    {
      "cell_type": "code",
      "source": [
        "def game_loop(board_game, check_win, check_tie):\n",
        "  keep_playing = True\n",
        "  print('Tic-tac-toe between you and an AI agent!! Your are X and the AI is O')\n",
        "  print('To stop playing, enter exit')\n",
        "  print(board_game)\n",
        "  while(keep_playing):\n",
        "    user = input('Make a move (row, col): ')\n",
        "    if user.lower() == 'exit':\n",
        "      break\n",
        "    row, col = map(int, user.split(','))\n",
        "    #check valid move of user\n",
        "    if board_game[row,col]== '':\n",
        "      board_game[row,col] = 'X'\n",
        "      print(board_game)\n",
        "\n",
        "      if check_win(board_game, 'X'):\n",
        "        print(board_game)\n",
        "        print('You won!')\n",
        "        break\n",
        "      elif check_tie(board_game):\n",
        "        print(board_game)\n",
        "        print('It is a tie!')\n",
        "        break\n",
        "\n",
        "      #AI mode\n",
        "      valid_move = False\n",
        "      while not valid_move:\n",
        "        ai_row, ai_col = (np.random.randint(0,3), np.random.randint(0,3))\n",
        "        if board_game[ai_row, ai_col] == '':\n",
        "          board_game[ai_row, ai_col] = 'O'\n",
        "          print(board_game)\n",
        "          valid_move = True\n",
        "        if check_win(board_game, 'O'):\n",
        "          print(board_game)\n",
        "          print('AI won!')\n",
        "          return\n",
        "        elif check_tie(board_game):\n",
        "          print(board_game)\n",
        "          print('It is a tie!')\n",
        "          return"
      ],
      "metadata": {
        "id": "amwberRG78hY"
      },
      "execution_count": null,
      "outputs": []
    },
    {
      "cell_type": "code",
      "source": [
        "game_loop(board_game, check_win, check_tie)"
      ],
      "metadata": {
        "colab": {
          "base_uri": "https://localhost:8080/"
        },
        "id": "bkbBHXfvE5U-",
        "outputId": "07d92b5c-f3a7-4265-fab6-24e1654f20eb"
      },
      "execution_count": null,
      "outputs": [
        {
          "output_type": "stream",
          "name": "stdout",
          "text": [
            "Tic-tac-toe between you and an AI agent!! Your are X and the AI is O\n",
            "To stop playing, enter exit\n",
            "[['' '' '']\n",
            " ['' '' '']\n",
            " ['' '' '']]\n",
            "Make a move (row, col): 1,1\n",
            "[['' '' '']\n",
            " ['' 'X' '']\n",
            " ['' '' '']]\n",
            "[['' '' '']\n",
            " ['' 'X' 'O']\n",
            " ['' '' '']]\n",
            "Make a move (row, col): 2,1\n",
            "[['' '' '']\n",
            " ['' 'X' 'O']\n",
            " ['' 'X' '']]\n",
            "[['O' '' '']\n",
            " ['' 'X' 'O']\n",
            " ['' 'X' '']]\n",
            "Make a move (row, col): 2,2\n",
            "[['O' '' '']\n",
            " ['' 'X' 'O']\n",
            " ['' 'X' 'X']]\n",
            "[['O' '' 'O']\n",
            " ['' 'X' 'O']\n",
            " ['' 'X' 'X']]\n",
            "Make a move (row, col): 1,0\n",
            "[['O' '' 'O']\n",
            " ['X' 'X' 'O']\n",
            " ['' 'X' 'X']]\n",
            "[['O' 'O' 'O']\n",
            " ['X' 'X' 'O']\n",
            " ['' 'X' 'X']]\n",
            "[['O' 'O' 'O']\n",
            " ['X' 'X' 'O']\n",
            " ['' 'X' 'X']]\n",
            "AI won!\n"
          ]
        }
      ]
    },
    {
      "cell_type": "code",
      "source": [],
      "metadata": {
        "id": "VtFdkSizFCDM"
      },
      "execution_count": null,
      "outputs": []
    }
  ]
}